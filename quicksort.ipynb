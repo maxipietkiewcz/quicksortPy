{
 "cells": [
  {
   "cell_type": "markdown",
   "metadata": {},
   "source": [
    "# Implementación del Algoritmo Quicksort en Python\n",
    "\n",
    "### Introducción\n",
    "\n",
    "- El objetivo de este trabajo práctico es comprender y aplicar el algoritmo Quicksort\n",
    "para ordenar una lista de elementos. Quicksort es un algoritmo eficiente y\n",
    "ampliamente utilizado que se basa en la técnica de \"divide y vencerás\". Durante este\n",
    "trabajo, se guiará paso a paso en la implementación del algoritmo, asegurando una\n",
    "comprensión profunda de cada parte del proceso.\n",
    "\n",
    "1. El primer paso sera crear una funcion que ordena recursivamente la lista utilizando el algoritmo Quicksort. Divide la lista en sublistas alrededor de un pivote y las ordena recursivamente."
   ]
  },
  {
   "cell_type": "code",
   "execution_count": 1,
   "metadata": {},
   "outputs": [],
   "source": [
    "def quicksort(lista, bajo, alto):\n",
    "    \n",
    "    if bajo < alto:\n",
    "        pi = particion(lista, bajo, alto)  # Divide la lista y obtiene el índice del pivote\n",
    "        quicksort(lista, bajo, pi - 1)     # Ordena recursivamente la sublista izquierda\n",
    "        quicksort(lista, pi + 1, alto)     # Ordena recursivamente la sublista derecha"
   ]
  },
  {
   "cell_type": "markdown",
   "metadata": {},
   "source": [
    "2.  Luego creamos una funcion que reorganizará la sublista para que todos los elementos menores que el pivote estén a su izquierda y todos los mayores estén a su derecha."
   ]
  },
  {
   "cell_type": "code",
   "execution_count": 2,
   "metadata": {},
   "outputs": [],
   "source": [
    "def particion(lista, bajo, alto):\n",
    "    pivote = lista[bajo]  # Elegimos el primer elemento como pivote\n",
    "    izquierda = bajo + 1  # Inicializa el índice de la izquierda\n",
    "    derecha = alto  # Inicializa el índice de la derecha\n",
    "\n",
    "    while True:\n",
    "        # Encuentra un elemento más grande que el pivote\n",
    "        while izquierda <= derecha and lista[izquierda] <= pivote:  # Busca un elemento mayor que el pivote desde la izquierda\n",
    "            izquierda += 1  # Incrementa el índice de la izquierda\n",
    "\n",
    "        # Encuentra un elemento más pequeño que el pivote\n",
    "        while izquierda <= derecha and lista[derecha] >= pivote:  # Busca un elemento menor que el pivote desde la derecha\n",
    "            derecha -= 1  # Decrementa el índice de la derecha\n",
    "\n",
    "        # Si izquierda está a la derecha de derecha, intercambiamos los elementos\n",
    "        if izquierda <= derecha:  # Si los índices no se han cruzado\n",
    "            lista[izquierda], lista[derecha] = lista[derecha], lista[izquierda]  # Intercambia los elementos en izquierda y derecha\n",
    "        else:\n",
    "            break  # Si los índices se han cruzado, salir del bucle\n",
    "\n",
    "    # Intercambiar el pivote con el elemento en derecha\n",
    "    lista[bajo], lista[derecha] = lista[derecha], lista[bajo]  # Coloca el pivote en su posición correcta\n",
    "\n",
    "    return derecha  # Devuelve el índice del pivote"
   ]
  },
  {
   "cell_type": "markdown",
   "metadata": {},
   "source": [
    "3. Por ultimo, el bloque de prueba, que se ejecuta si el script se ejecuta directamente. Define una lista de ejemplo, la ordena utilizando Quicksort y muestra la lista antes y después de la ordenación."
   ]
  },
  {
   "cell_type": "code",
   "execution_count": 3,
   "metadata": {},
   "outputs": [
    {
     "name": "stdout",
     "output_type": "stream",
     "text": [
      "Lista original: [10, 7, 8, 9, 1, 5]\n",
      "Lista ordenada: [1, 5, 7, 8, 9, 10]\n"
     ]
    }
   ],
   "source": [
    "if __name__ == \"__main__\":  \n",
    "    lista_ejemplo = [10, 7, 8, 9, 1, 5]  # Lista de ejemplo para ordenar\n",
    "    print(\"Lista original:\", lista_ejemplo)  # Imprime la lista original\n",
    "    quicksort(lista_ejemplo, 0, len(lista_ejemplo) - 1)  # Llama a quicksort para ordenar la lista\n",
    "    print(\"Lista ordenada:\", lista_ejemplo)  # Imprime la lista ordenada"
   ]
  }
 ],
 "metadata": {
  "kernelspec": {
   "display_name": "Python 3",
   "language": "python",
   "name": "python3"
  },
  "language_info": {
   "codemirror_mode": {
    "name": "ipython",
    "version": 3
   },
   "file_extension": ".py",
   "mimetype": "text/x-python",
   "name": "python",
   "nbconvert_exporter": "python",
   "pygments_lexer": "ipython3",
   "version": "3.12.2"
  }
 },
 "nbformat": 4,
 "nbformat_minor": 2
}
